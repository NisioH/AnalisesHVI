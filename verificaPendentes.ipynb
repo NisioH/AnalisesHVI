{
 "cells": [
  {
   "cell_type": "code",
   "execution_count": null,
   "metadata": {},
   "outputs": [],
   "source": [
    "import pandas as pd\n",
    "\n",
    "classifica = pd.read_excel(r'C:\\Users\\fazin\\OneDrive\\Documents\\Nisio\\Cargas Pendentes\\CargasPendentes 24-25\\verificaPendentes.xlsx')\n",
    "classifica.head()"
   ]
  },
  {
   "cell_type": "code",
   "execution_count": null,
   "metadata": {},
   "outputs": [],
   "source": [
    "def remove_matching_values(classifica, Bordadura, Fardão):\n",
    "  \n",
    "    fardos_iguais = set(classifica['Bordadura']).intersection(classifica['Fardão'])\n",
    "\n",
    "    for fardo in fardos_iguais:\n",
    "        classifica['Bordadura'] = classifica['Bordadura'].replace(fardo, pd.NA)\n",
    "        classifica['Fardão'] = classifica['Fardão'].replace(fardo, pd.NA)\n",
    "        \n",
    "    return classifica\n",
    "\n",
    "classifica.head()"
   ]
  },
  {
   "cell_type": "code",
   "execution_count": null,
   "metadata": {},
   "outputs": [],
   "source": [
    "classifica = remove_matching_values(classifica, 'Bordadura', 'Fardão')\n",
    "\n",
    "classifica.to_excel(r'C:\\Users\\fazin\\OneDrive\\Documents\\Nisio\\Cargas Pendentes\\CargasPendentes 24-25\\08 - Agosto\\valores_restantes.xlsx', index=False)"
   ]
  },
  {
   "cell_type": "code",
   "execution_count": null,
   "metadata": {},
   "outputs": [],
   "source": [
    "classifica = pd.read_excel(r'C:\\Users\\fazin\\OneDrive\\Documents\\Nisio\\Cargas Pendentes\\CargasPendentes 24-25\\08 - Agosto\\valores_restantes.xlsx')\n",
    "classifica.head()"
   ]
  },
  {
   "cell_type": "code",
   "execution_count": null,
   "metadata": {},
   "outputs": [],
   "source": [
    "def remove_matching_values(classifica, Bordadura, Fardão):\n",
    "   \n",
    "    unique_values = set(classifica['Vinculadas']).intersection(classifica['Fardão'])\n",
    "\n",
    "    for value in unique_values:\n",
    "        classifica['Vinculadas'] = classifica['Vinculadas'].replace(value, pd.NA)\n",
    "        classifica['Fardão'] = classifica['Fardão'].replace(value, pd.NA)\n",
    "        \n",
    "    return classifica"
   ]
  },
  {
   "cell_type": "code",
   "execution_count": null,
   "metadata": {},
   "outputs": [],
   "source": [
    "df = remove_matching_values(classifica, 'coluna1', 'coluna2')\n",
    "def remove_nan_and_shift_up(classifica):\n",
    "    for col in classifica.columns:\n",
    "        classifica['Fardão'] = classifica['Fardão'].dropna().reset_index(drop=True)\n",
    "    return classifica\n",
    "\n",
    "\n",
    "df = remove_nan_and_shift_up(classifica)\n",
    "\n",
    "df.to_excel(r'C:\\Users\\fazin\\OneDrive\\Documents\\Nisio\\Cargas Pendentes\\CargasPendentes 24-25\\08 - Agosto\\valores_restantes.xlsx', index=False)\n",
    "\n",
    "print(\"Valores restantes salvos em 'valores_restantes.xlsx'\")"
   ]
  }
 ],
 "metadata": {
  "kernelspec": {
   "display_name": ".venv",
   "language": "python",
   "name": "python3"
  },
  "language_info": {
   "codemirror_mode": {
    "name": "ipython",
    "version": 3
   },
   "file_extension": ".py",
   "mimetype": "text/x-python",
   "name": "python",
   "nbconvert_exporter": "python",
   "pygments_lexer": "ipython3",
   "version": "3.12.3"
  }
 },
 "nbformat": 4,
 "nbformat_minor": 2
}
