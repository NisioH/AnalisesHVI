{
 "cells": [
  {
   "cell_type": "code",
<<<<<<< HEAD
   "execution_count": null,
   "metadata": {},
   "outputs": [],
   "source": [
    "import pandas as pd\n",
    "%pip install matplotlib\n",
    "classifica = pd.read_excel(r'..\\Hvi_retorno\\Retorno - 24-25\\09 - Setembro\\RetornoHVI_12Set.xlsx')\n",
    "#classifica = pd.read_excel(r'.\\Hvi_retorno\\Retorno - 11 - Novembro\\RetornoHVI_21Nov.xlsx')\n",
    "classifica.head()"
   ]
  },
  {
   "cell_type": "code",
   "execution_count": null,
   "metadata": {},
   "outputs": [],
   "source": [
    "classifica.columns = classifica.iloc[1]\n",
    "classifica.head()\n"
   ]
  },
  {
   "cell_type": "code",
   "execution_count": null,
   "metadata": {},
   "outputs": [],
   "source": [
    "classifica.drop([0, 1], inplace=True)\n",
    "classifica.info()"
   ]
  },
  {
   "cell_type": "code",
   "execution_count": null,
   "metadata": {},
   "outputs": [],
   "source": [
    "df_clone = pd.DataFrame(classifica.loc[:, ['Variedade', 'Mic', 'Res', 'UHM', 'Tp.Visual', 'UN']])\n",
    "df_clone.head()"
   ]
  },
  {
   "cell_type": "code",
   "execution_count": null,
   "metadata": {},
   "outputs": [],
   "source": [
    "#df_clone.groupby('Bloco')['UN'].value_counts()\n",
    "df_clone['Variedade'].value_counts()"
   ]
=======
   "metadata": {
    "ExecuteTime": {
     "end_time": "2025-09-20T01:39:28.851715Z",
     "start_time": "2025-09-20T01:39:14.966510Z"
    }
   },
   "source": [
    "import pandas as pd\n",
    "\n",
    "classifica = pd.read_excel('/home/nisiohelande/Documents/Teste-Apresentação.xlsx')\n",
    "classifica.head()"
   ],
   "outputs": [
    {
     "data": {
      "text/plain": [
       "  Consulta Geral de Fardos Unnamed: 1          Unnamed: 2 Unnamed: 3  \\\n",
       "0                      NaN        NaN                 NaN        NaN   \n",
       "1                   Número       Peso            Produtor       Tipo   \n",
       "2                  294,901      186.7  WALDEMIR IVAL LOTO       62-6   \n",
       "3                  294,902      192.3  WALDEMIR IVAL LOTO       41-4   \n",
       "4                  294,903      182.0  WALDEMIR IVAL LOTO       62-6   \n",
       "\n",
       "  Unnamed: 4 Unnamed: 5  Unnamed: 6 Unnamed: 7 Unnamed: 8 Unnamed: 9  \\\n",
       "0        NaN        NaN         NaN        NaN        NaN        NaN   \n",
       "1      Color     Prensa  Data Benef     Talhão     Fardão      Bloco   \n",
       "2          .          1  29/07/2025   23-24-25          1          9   \n",
       "3          .          1  29/07/2025   23-24-25          1          7   \n",
       "4          .          1  29/07/2025   23-24-25          1          9   \n",
       "\n",
       "  Unnamed: 10 Unnamed: 11 Unnamed: 12  Unnamed: 13       Unnamed: 14  \\\n",
       "0         NaN         NaN         NaN          NaN               NaN   \n",
       "1      N.Fisc  Data Saida    Contrato    Variedade          Endereço   \n",
       "2         NaN         NaN         NaN  FM 978 GLTP  ROD BR 174 KM 14   \n",
       "3         NaN         NaN         NaN  FM 978 GLTP  ROD BR 174 KM 14   \n",
       "4         NaN         NaN         NaN  FM 978 GLTP  ROD BR 174 KM 14   \n",
       "\n",
       "              Unnamed: 15         Unnamed: 16   Unnamed: 17 Unnamed: 18  \n",
       "0                     NaN                 NaN           NaN         NaN  \n",
       "1         Cliente Destino             Cliente  Numero Fardo  NF Fardoes  \n",
       "2                     NaN                 NaN   00201294901           0  \n",
       "3  ADM INTERNATIONAL SARL  WALDEMIR IVAL LOTO   00201294902           0  \n",
       "4                     NaN                 NaN   00201294903           0  "
      ],
      "text/html": [
       "<div>\n",
       "<style scoped>\n",
       "    .dataframe tbody tr th:only-of-type {\n",
       "        vertical-align: middle;\n",
       "    }\n",
       "\n",
       "    .dataframe tbody tr th {\n",
       "        vertical-align: top;\n",
       "    }\n",
       "\n",
       "    .dataframe thead th {\n",
       "        text-align: right;\n",
       "    }\n",
       "</style>\n",
       "<table border=\"1\" class=\"dataframe\">\n",
       "  <thead>\n",
       "    <tr style=\"text-align: right;\">\n",
       "      <th></th>\n",
       "      <th>Consulta Geral de Fardos</th>\n",
       "      <th>Unnamed: 1</th>\n",
       "      <th>Unnamed: 2</th>\n",
       "      <th>Unnamed: 3</th>\n",
       "      <th>Unnamed: 4</th>\n",
       "      <th>Unnamed: 5</th>\n",
       "      <th>Unnamed: 6</th>\n",
       "      <th>Unnamed: 7</th>\n",
       "      <th>Unnamed: 8</th>\n",
       "      <th>Unnamed: 9</th>\n",
       "      <th>Unnamed: 10</th>\n",
       "      <th>Unnamed: 11</th>\n",
       "      <th>Unnamed: 12</th>\n",
       "      <th>Unnamed: 13</th>\n",
       "      <th>Unnamed: 14</th>\n",
       "      <th>Unnamed: 15</th>\n",
       "      <th>Unnamed: 16</th>\n",
       "      <th>Unnamed: 17</th>\n",
       "      <th>Unnamed: 18</th>\n",
       "    </tr>\n",
       "  </thead>\n",
       "  <tbody>\n",
       "    <tr>\n",
       "      <th>0</th>\n",
       "      <td>NaN</td>\n",
       "      <td>NaN</td>\n",
       "      <td>NaN</td>\n",
       "      <td>NaN</td>\n",
       "      <td>NaN</td>\n",
       "      <td>NaN</td>\n",
       "      <td>NaN</td>\n",
       "      <td>NaN</td>\n",
       "      <td>NaN</td>\n",
       "      <td>NaN</td>\n",
       "      <td>NaN</td>\n",
       "      <td>NaN</td>\n",
       "      <td>NaN</td>\n",
       "      <td>NaN</td>\n",
       "      <td>NaN</td>\n",
       "      <td>NaN</td>\n",
       "      <td>NaN</td>\n",
       "      <td>NaN</td>\n",
       "      <td>NaN</td>\n",
       "    </tr>\n",
       "    <tr>\n",
       "      <th>1</th>\n",
       "      <td>Número</td>\n",
       "      <td>Peso</td>\n",
       "      <td>Produtor</td>\n",
       "      <td>Tipo</td>\n",
       "      <td>Color</td>\n",
       "      <td>Prensa</td>\n",
       "      <td>Data Benef</td>\n",
       "      <td>Talhão</td>\n",
       "      <td>Fardão</td>\n",
       "      <td>Bloco</td>\n",
       "      <td>N.Fisc</td>\n",
       "      <td>Data Saida</td>\n",
       "      <td>Contrato</td>\n",
       "      <td>Variedade</td>\n",
       "      <td>Endereço</td>\n",
       "      <td>Cliente Destino</td>\n",
       "      <td>Cliente</td>\n",
       "      <td>Numero Fardo</td>\n",
       "      <td>NF Fardoes</td>\n",
       "    </tr>\n",
       "    <tr>\n",
       "      <th>2</th>\n",
       "      <td>294,901</td>\n",
       "      <td>186.7</td>\n",
       "      <td>WALDEMIR IVAL LOTO</td>\n",
       "      <td>62-6</td>\n",
       "      <td>.</td>\n",
       "      <td>1</td>\n",
       "      <td>29/07/2025</td>\n",
       "      <td>23-24-25</td>\n",
       "      <td>1</td>\n",
       "      <td>9</td>\n",
       "      <td>NaN</td>\n",
       "      <td>NaN</td>\n",
       "      <td>NaN</td>\n",
       "      <td>FM 978 GLTP</td>\n",
       "      <td>ROD BR 174 KM 14</td>\n",
       "      <td>NaN</td>\n",
       "      <td>NaN</td>\n",
       "      <td>00201294901</td>\n",
       "      <td>0</td>\n",
       "    </tr>\n",
       "    <tr>\n",
       "      <th>3</th>\n",
       "      <td>294,902</td>\n",
       "      <td>192.3</td>\n",
       "      <td>WALDEMIR IVAL LOTO</td>\n",
       "      <td>41-4</td>\n",
       "      <td>.</td>\n",
       "      <td>1</td>\n",
       "      <td>29/07/2025</td>\n",
       "      <td>23-24-25</td>\n",
       "      <td>1</td>\n",
       "      <td>7</td>\n",
       "      <td>NaN</td>\n",
       "      <td>NaN</td>\n",
       "      <td>NaN</td>\n",
       "      <td>FM 978 GLTP</td>\n",
       "      <td>ROD BR 174 KM 14</td>\n",
       "      <td>ADM INTERNATIONAL SARL</td>\n",
       "      <td>WALDEMIR IVAL LOTO</td>\n",
       "      <td>00201294902</td>\n",
       "      <td>0</td>\n",
       "    </tr>\n",
       "    <tr>\n",
       "      <th>4</th>\n",
       "      <td>294,903</td>\n",
       "      <td>182.0</td>\n",
       "      <td>WALDEMIR IVAL LOTO</td>\n",
       "      <td>62-6</td>\n",
       "      <td>.</td>\n",
       "      <td>1</td>\n",
       "      <td>29/07/2025</td>\n",
       "      <td>23-24-25</td>\n",
       "      <td>1</td>\n",
       "      <td>9</td>\n",
       "      <td>NaN</td>\n",
       "      <td>NaN</td>\n",
       "      <td>NaN</td>\n",
       "      <td>FM 978 GLTP</td>\n",
       "      <td>ROD BR 174 KM 14</td>\n",
       "      <td>NaN</td>\n",
       "      <td>NaN</td>\n",
       "      <td>00201294903</td>\n",
       "      <td>0</td>\n",
       "    </tr>\n",
       "  </tbody>\n",
       "</table>\n",
       "</div>"
      ]
     },
     "execution_count": 1,
     "metadata": {},
     "output_type": "execute_result"
    }
   ],
   "execution_count": 1
  },
  {
   "cell_type": "code",
   "metadata": {
    "ExecuteTime": {
     "end_time": "2025-09-20T01:39:44.537404Z",
     "start_time": "2025-09-20T01:39:44.433583Z"
    }
   },
   "source": [
    "classifica.columns = classifica.iloc[1]\n",
    "classifica.drop([0, 1], inplace=True)\n",
    "classifica.info()\n"
   ],
   "outputs": [
    {
     "name": "stdout",
     "output_type": "stream",
     "text": [
      "<class 'pandas.core.frame.DataFrame'>\n",
      "RangeIndex: 19189 entries, 2 to 19190\n",
      "Data columns (total 19 columns):\n",
      " #   Column           Non-Null Count  Dtype \n",
      "---  ------           --------------  ----- \n",
      " 0   Número           19189 non-null  object\n",
      " 1   Peso             19189 non-null  object\n",
      " 2   Produtor         19189 non-null  object\n",
      " 3   Tipo             19050 non-null  object\n",
      " 4   Color            19050 non-null  object\n",
      " 5   Prensa           19189 non-null  object\n",
      " 6   Data Benef       19189 non-null  object\n",
      " 7   Talhão           19189 non-null  object\n",
      " 8    Fardão          19189 non-null  object\n",
      " 9   Bloco            18100 non-null  object\n",
      " 10  N.Fisc           0 non-null      object\n",
      " 11  Data Saida       0 non-null      object\n",
      " 12  Contrato         0 non-null      object\n",
      " 13  Variedade        19189 non-null  object\n",
      " 14  Endereço         19189 non-null  object\n",
      " 15  Cliente Destino  3740 non-null   object\n",
      " 16  Cliente          3740 non-null   object\n",
      " 17  Numero Fardo     19189 non-null  object\n",
      " 18  NF Fardoes       19189 non-null  object\n",
      "dtypes: object(19)\n",
      "memory usage: 2.8+ MB\n"
     ]
    }
   ],
   "execution_count": 2
  },
  {
   "metadata": {
    "ExecuteTime": {
     "end_time": "2025-09-20T01:46:41.378445Z",
     "start_time": "2025-09-20T01:46:41.363937Z"
    }
   },
   "cell_type": "code",
   "outputs": [
    {
     "data": {
      "text/plain": [
       "Index(['Número', 'Peso', 'Produtor', 'Tipo', 'Color', 'Prensa', 'Data Benef',\n",
       "       'Talhão', ' Fardão', 'Bloco', 'N.Fisc', 'Data Saida', 'Contrato',\n",
       "       'Variedade', 'Endereço', 'Cliente Destino', 'Cliente', 'Numero Fardo',\n",
       "       'NF Fardoes'],\n",
       "      dtype='object', name=1)"
      ]
     },
     "execution_count": 5,
     "metadata": {},
     "output_type": "execute_result"
    }
   ],
   "execution_count": 5,
   "source": "classifica.columns"
>>>>>>> 15aa13a146d2c5dbafaff388d3057ca9d9db7918
  },
  {
   "metadata": {
    "ExecuteTime": {
     "end_time": "2025-09-20T02:41:42.271905Z",
     "start_time": "2025-09-20T02:41:42.211845Z"
    }
   },
   "cell_type": "code",
<<<<<<< HEAD
   "execution_count": null,
   "metadata": {},
   "outputs": [],
   "source": [
    "df_clone['Mic'] = df_clone['Mic'].str.replace(',', '.').astype(float)"
   ]
  },
  {
   "cell_type": "code",
   "execution_count": null,
   "metadata": {},
   "outputs": [],
   "source": [
    "df_clone['Mic_baixa_resistencia'] = ~ df_clone['Mic'].between(3.5, 6, inclusive='both')\n",
    "df_clone.head()"
   ]
  },
  {
   "cell_type": "code",
   "execution_count": null,
   "metadata": {},
   "outputs": [],
   "source": [
    "df_clone['Mic_baixa_resistencia'].value_counts()"
   ]
  },
  {
   "cell_type": "code",
   "execution_count": null,
   "metadata": {},
   "outputs": [],
   "source": [
    "df_clone['Tp.Visual'].value_counts()"
   ]
  },
  {
   "cell_type": "code",
   "execution_count": null,
   "metadata": {},
   "outputs": [],
   "source": [
    "import pandas as pd\n",
    "import matplotlib.pyplot as plt\n",
    "\n",
    "# Supondo que df_clone já está definido e contém seus dados\n",
    "# Fazer a contagem dos valores de Tp.Visual\n",
    "contagem_tp_visual = df_clone['Tp.Visual'].value_counts()\n",
    "\n",
    "# Criar gráfico de barras vertical com maior espaçamento entre as barras\n",
    "fig, ax = plt.subplots()\n",
    "contagem_tp_visual.plot(kind='bar', ax=ax, width=0.4)\n",
    "\n",
    "# Adicionar títulos e rótulos\n",
    "ax.set_title('Distribuição de Tp.Visual')\n",
    "ax.set_xlabel('Tp.Visual')\n",
    "ax.set_ylabel('Quantidade')\n",
    "\n",
    "# Rotacionar os rótulos do eixo X para 90 graus\n",
    "ax.set_xticklabels(contagem_tp_visual.index, rotation=0)\n",
    "\n",
    "# Ajustar espaçamento entre as barras\n",
    "ax.margins(y=0.1, x=0.4)  # Ajusta o espaçamento vertical entre as barras\n",
    "\n",
    "# Adicionar os valores acima das barras\n",
    "for container in ax.containers:\n",
    "    ax.bar_label(container)\n",
    "\n",
    "plt.tight_layout()  # Ajustar layout para melhor visualização dos rótulos\n",
    "plt.show()\n"
   ]
  },
  {
   "cell_type": "code",
   "execution_count": null,
   "metadata": {},
   "outputs": [],
   "source": [
    "df_clone['Res'] = df_clone['Res'].str.replace(',', '.').astype(float)"
   ]
  },
  {
   "cell_type": "code",
   "execution_count": null,
   "metadata": {},
   "outputs": [],
   "source": [
    "df_clone['baixa_resistencia'] = ~ df_clone['Res'].between(28, 35, inclusive='both')\n",
    "df_clone.head()"
   ]
  },
  {
   "cell_type": "code",
   "execution_count": null,
   "metadata": {},
   "outputs": [],
   "source": [
    "df_clone['baixa_resistencia'].value_counts()"
   ]
  },
  {
   "cell_type": "code",
   "execution_count": null,
   "metadata": {},
   "outputs": [],
   "source": [
    "df_baixa_Resistencia = pd.DataFrame(df_clone[df_clone['baixa_resistencia'] == True].value_counts('Tp.Visual'))\n"
   ]
  },
  {
   "cell_type": "code",
   "execution_count": null,
   "metadata": {},
   "outputs": [],
   "source": [
    "df_baixa_Resistencia.iterrows()"
   ]
  },
  {
   "cell_type": "code",
   "execution_count": null,
   "metadata": {},
   "outputs": [],
   "source": [
    "#import pandas as pd\n",
    "import matplotlib.pyplot as plt\n",
    "\n",
    "# Seu código para iterar e coletar os dados\n",
    "resultado = []\n",
    "for tipoVisual, nome in df_baixa_Resistencia.iterrows():\n",
    "    contagem = df_clone[(df_clone['baixa_resistencia'] == False) & (df_clone['Tp.Visual'] == tipoVisual)].value_counts(['UN']).sum()\n",
    "    resultado.append({'TipoVisual': tipoVisual, 'Contagem': contagem})\n",
    "\n",
    "# Criar um DataFrame com os resultados\n",
    "df_resultado = pd.DataFrame(resultado)\n",
    "\n",
    "# Plotar o gráfico de pizza\n",
    "fig, ax = plt.subplots()\n",
    "ax.pie(df_resultado['Contagem'], labels=df_resultado['TipoVisual'], autopct='%1.1f%%')\n",
    "ax.axis('equal')  # Assegura que o gráfico de pizza seja circular\n",
    "\n",
    "plt.title('Distribuição de Tp.Visual')\n",
    "plt.show()\n"
   ]
  },
  {
   "cell_type": "code",
   "execution_count": null,
   "metadata": {},
   "outputs": [],
=======
   "source": [
    "df_clone = pd.DataFrame(classifica.loc[:, ['Número', 'Bloco', 'Talhão', 'Data Benef', 'Tipo', 'Peso' ,'Variedade']])\n",
    "df_clone['Data Benef'] = pd.to_datetime(df_clone['Data Benef'], format='%d/%m/%Y', errors=\"coerce\")\n",
    "df_clone.head()"
   ],
   "outputs": [
    {
     "data": {
      "text/plain": [
       "1   Número Bloco    Talhão Data Benef  Tipo   Peso    Variedade\n",
       "2  294,901     9  23-24-25 2025-07-29  62-6  186.7  FM 978 GLTP\n",
       "3  294,902     7  23-24-25 2025-07-29  41-4  192.3  FM 978 GLTP\n",
       "4  294,903     9  23-24-25 2025-07-29  62-6  182.0  FM 978 GLTP\n",
       "5  294,904     9  23-24-25 2025-07-29  62-6  183.4  FM 978 GLTP\n",
       "6  294,905     9  23-24-25 2025-07-29  62-6  192.4  FM 978 GLTP"
      ],
      "text/html": [
       "<div>\n",
       "<style scoped>\n",
       "    .dataframe tbody tr th:only-of-type {\n",
       "        vertical-align: middle;\n",
       "    }\n",
       "\n",
       "    .dataframe tbody tr th {\n",
       "        vertical-align: top;\n",
       "    }\n",
       "\n",
       "    .dataframe thead th {\n",
       "        text-align: right;\n",
       "    }\n",
       "</style>\n",
       "<table border=\"1\" class=\"dataframe\">\n",
       "  <thead>\n",
       "    <tr style=\"text-align: right;\">\n",
       "      <th>1</th>\n",
       "      <th>Número</th>\n",
       "      <th>Bloco</th>\n",
       "      <th>Talhão</th>\n",
       "      <th>Data Benef</th>\n",
       "      <th>Tipo</th>\n",
       "      <th>Peso</th>\n",
       "      <th>Variedade</th>\n",
       "    </tr>\n",
       "  </thead>\n",
       "  <tbody>\n",
       "    <tr>\n",
       "      <th>2</th>\n",
       "      <td>294,901</td>\n",
       "      <td>9</td>\n",
       "      <td>23-24-25</td>\n",
       "      <td>2025-07-29</td>\n",
       "      <td>62-6</td>\n",
       "      <td>186.7</td>\n",
       "      <td>FM 978 GLTP</td>\n",
       "    </tr>\n",
       "    <tr>\n",
       "      <th>3</th>\n",
       "      <td>294,902</td>\n",
       "      <td>7</td>\n",
       "      <td>23-24-25</td>\n",
       "      <td>2025-07-29</td>\n",
       "      <td>41-4</td>\n",
       "      <td>192.3</td>\n",
       "      <td>FM 978 GLTP</td>\n",
       "    </tr>\n",
       "    <tr>\n",
       "      <th>4</th>\n",
       "      <td>294,903</td>\n",
       "      <td>9</td>\n",
       "      <td>23-24-25</td>\n",
       "      <td>2025-07-29</td>\n",
       "      <td>62-6</td>\n",
       "      <td>182.0</td>\n",
       "      <td>FM 978 GLTP</td>\n",
       "    </tr>\n",
       "    <tr>\n",
       "      <th>5</th>\n",
       "      <td>294,904</td>\n",
       "      <td>9</td>\n",
       "      <td>23-24-25</td>\n",
       "      <td>2025-07-29</td>\n",
       "      <td>62-6</td>\n",
       "      <td>183.4</td>\n",
       "      <td>FM 978 GLTP</td>\n",
       "    </tr>\n",
       "    <tr>\n",
       "      <th>6</th>\n",
       "      <td>294,905</td>\n",
       "      <td>9</td>\n",
       "      <td>23-24-25</td>\n",
       "      <td>2025-07-29</td>\n",
       "      <td>62-6</td>\n",
       "      <td>192.4</td>\n",
       "      <td>FM 978 GLTP</td>\n",
       "    </tr>\n",
       "  </tbody>\n",
       "</table>\n",
       "</div>"
      ]
     },
     "execution_count": 18,
     "metadata": {},
     "output_type": "execute_result"
    }
   ],
   "execution_count": 18
  },
  {
   "cell_type": "code",
   "metadata": {},
>>>>>>> 15aa13a146d2c5dbafaff388d3057ca9d9db7918
   "source": [
    "\n",
    "   \n"
   ],
   "outputs": [],
   "execution_count": null
  }
 ],
 "metadata": {
  "kernelspec": {
   "display_name": ".venv",
   "language": "python",
   "name": "python3"
  },
  "language_info": {
   "codemirror_mode": {
    "name": "ipython",
    "version": 3
   },
   "file_extension": ".py",
   "mimetype": "text/x-python",
   "name": "python",
   "nbconvert_exporter": "python",
   "pygments_lexer": "ipython3",
   "version": "3.12.3"
  }
 },
 "nbformat": 4,
 "nbformat_minor": 2
}
