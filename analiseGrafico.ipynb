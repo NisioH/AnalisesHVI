{
 "cells": [
  {
   "cell_type": "code",
   "metadata": {
    "ExecuteTime": {
     "end_time": "2025-09-20T01:39:28.851715Z",
     "start_time": "2025-09-20T01:39:14.966510Z"
    }
   },
   "source": [
    "import pandas as pd\n",
    "\n",
    "classifica = pd.read_excel('/home/nisiohelande/Documents/Teste-Apresentação.xlsx')\n",
    "classifica.head()"
   ],
   "outputs": [
    {
     "data": {
      "text/plain": [
       "  Consulta Geral de Fardos Unnamed: 1          Unnamed: 2 Unnamed: 3  \\\n",
       "0                      NaN        NaN                 NaN        NaN   \n",
       "1                   Número       Peso            Produtor       Tipo   \n",
       "2                  294,901      186.7  WALDEMIR IVAL LOTO       62-6   \n",
       "3                  294,902      192.3  WALDEMIR IVAL LOTO       41-4   \n",
       "4                  294,903      182.0  WALDEMIR IVAL LOTO       62-6   \n",
       "\n",
       "  Unnamed: 4 Unnamed: 5  Unnamed: 6 Unnamed: 7 Unnamed: 8 Unnamed: 9  \\\n",
       "0        NaN        NaN         NaN        NaN        NaN        NaN   \n",
       "1      Color     Prensa  Data Benef     Talhão     Fardão      Bloco   \n",
       "2          .          1  29/07/2025   23-24-25          1          9   \n",
       "3          .          1  29/07/2025   23-24-25          1          7   \n",
       "4          .          1  29/07/2025   23-24-25          1          9   \n",
       "\n",
       "  Unnamed: 10 Unnamed: 11 Unnamed: 12  Unnamed: 13       Unnamed: 14  \\\n",
       "0         NaN         NaN         NaN          NaN               NaN   \n",
       "1      N.Fisc  Data Saida    Contrato    Variedade          Endereço   \n",
       "2         NaN         NaN         NaN  FM 978 GLTP  ROD BR 174 KM 14   \n",
       "3         NaN         NaN         NaN  FM 978 GLTP  ROD BR 174 KM 14   \n",
       "4         NaN         NaN         NaN  FM 978 GLTP  ROD BR 174 KM 14   \n",
       "\n",
       "              Unnamed: 15         Unnamed: 16   Unnamed: 17 Unnamed: 18  \n",
       "0                     NaN                 NaN           NaN         NaN  \n",
       "1         Cliente Destino             Cliente  Numero Fardo  NF Fardoes  \n",
       "2                     NaN                 NaN   00201294901           0  \n",
       "3  ADM INTERNATIONAL SARL  WALDEMIR IVAL LOTO   00201294902           0  \n",
       "4                     NaN                 NaN   00201294903           0  "
      ],
      "text/html": [
       "<div>\n",
       "<style scoped>\n",
       "    .dataframe tbody tr th:only-of-type {\n",
       "        vertical-align: middle;\n",
       "    }\n",
       "\n",
       "    .dataframe tbody tr th {\n",
       "        vertical-align: top;\n",
       "    }\n",
       "\n",
       "    .dataframe thead th {\n",
       "        text-align: right;\n",
       "    }\n",
       "</style>\n",
       "<table border=\"1\" class=\"dataframe\">\n",
       "  <thead>\n",
       "    <tr style=\"text-align: right;\">\n",
       "      <th></th>\n",
       "      <th>Consulta Geral de Fardos</th>\n",
       "      <th>Unnamed: 1</th>\n",
       "      <th>Unnamed: 2</th>\n",
       "      <th>Unnamed: 3</th>\n",
       "      <th>Unnamed: 4</th>\n",
       "      <th>Unnamed: 5</th>\n",
       "      <th>Unnamed: 6</th>\n",
       "      <th>Unnamed: 7</th>\n",
       "      <th>Unnamed: 8</th>\n",
       "      <th>Unnamed: 9</th>\n",
       "      <th>Unnamed: 10</th>\n",
       "      <th>Unnamed: 11</th>\n",
       "      <th>Unnamed: 12</th>\n",
       "      <th>Unnamed: 13</th>\n",
       "      <th>Unnamed: 14</th>\n",
       "      <th>Unnamed: 15</th>\n",
       "      <th>Unnamed: 16</th>\n",
       "      <th>Unnamed: 17</th>\n",
       "      <th>Unnamed: 18</th>\n",
       "    </tr>\n",
       "  </thead>\n",
       "  <tbody>\n",
       "    <tr>\n",
       "      <th>0</th>\n",
       "      <td>NaN</td>\n",
       "      <td>NaN</td>\n",
       "      <td>NaN</td>\n",
       "      <td>NaN</td>\n",
       "      <td>NaN</td>\n",
       "      <td>NaN</td>\n",
       "      <td>NaN</td>\n",
       "      <td>NaN</td>\n",
       "      <td>NaN</td>\n",
       "      <td>NaN</td>\n",
       "      <td>NaN</td>\n",
       "      <td>NaN</td>\n",
       "      <td>NaN</td>\n",
       "      <td>NaN</td>\n",
       "      <td>NaN</td>\n",
       "      <td>NaN</td>\n",
       "      <td>NaN</td>\n",
       "      <td>NaN</td>\n",
       "      <td>NaN</td>\n",
       "    </tr>\n",
       "    <tr>\n",
       "      <th>1</th>\n",
       "      <td>Número</td>\n",
       "      <td>Peso</td>\n",
       "      <td>Produtor</td>\n",
       "      <td>Tipo</td>\n",
       "      <td>Color</td>\n",
       "      <td>Prensa</td>\n",
       "      <td>Data Benef</td>\n",
       "      <td>Talhão</td>\n",
       "      <td>Fardão</td>\n",
       "      <td>Bloco</td>\n",
       "      <td>N.Fisc</td>\n",
       "      <td>Data Saida</td>\n",
       "      <td>Contrato</td>\n",
       "      <td>Variedade</td>\n",
       "      <td>Endereço</td>\n",
       "      <td>Cliente Destino</td>\n",
       "      <td>Cliente</td>\n",
       "      <td>Numero Fardo</td>\n",
       "      <td>NF Fardoes</td>\n",
       "    </tr>\n",
       "    <tr>\n",
       "      <th>2</th>\n",
       "      <td>294,901</td>\n",
       "      <td>186.7</td>\n",
       "      <td>WALDEMIR IVAL LOTO</td>\n",
       "      <td>62-6</td>\n",
       "      <td>.</td>\n",
       "      <td>1</td>\n",
       "      <td>29/07/2025</td>\n",
       "      <td>23-24-25</td>\n",
       "      <td>1</td>\n",
       "      <td>9</td>\n",
       "      <td>NaN</td>\n",
       "      <td>NaN</td>\n",
       "      <td>NaN</td>\n",
       "      <td>FM 978 GLTP</td>\n",
       "      <td>ROD BR 174 KM 14</td>\n",
       "      <td>NaN</td>\n",
       "      <td>NaN</td>\n",
       "      <td>00201294901</td>\n",
       "      <td>0</td>\n",
       "    </tr>\n",
       "    <tr>\n",
       "      <th>3</th>\n",
       "      <td>294,902</td>\n",
       "      <td>192.3</td>\n",
       "      <td>WALDEMIR IVAL LOTO</td>\n",
       "      <td>41-4</td>\n",
       "      <td>.</td>\n",
       "      <td>1</td>\n",
       "      <td>29/07/2025</td>\n",
       "      <td>23-24-25</td>\n",
       "      <td>1</td>\n",
       "      <td>7</td>\n",
       "      <td>NaN</td>\n",
       "      <td>NaN</td>\n",
       "      <td>NaN</td>\n",
       "      <td>FM 978 GLTP</td>\n",
       "      <td>ROD BR 174 KM 14</td>\n",
       "      <td>ADM INTERNATIONAL SARL</td>\n",
       "      <td>WALDEMIR IVAL LOTO</td>\n",
       "      <td>00201294902</td>\n",
       "      <td>0</td>\n",
       "    </tr>\n",
       "    <tr>\n",
       "      <th>4</th>\n",
       "      <td>294,903</td>\n",
       "      <td>182.0</td>\n",
       "      <td>WALDEMIR IVAL LOTO</td>\n",
       "      <td>62-6</td>\n",
       "      <td>.</td>\n",
       "      <td>1</td>\n",
       "      <td>29/07/2025</td>\n",
       "      <td>23-24-25</td>\n",
       "      <td>1</td>\n",
       "      <td>9</td>\n",
       "      <td>NaN</td>\n",
       "      <td>NaN</td>\n",
       "      <td>NaN</td>\n",
       "      <td>FM 978 GLTP</td>\n",
       "      <td>ROD BR 174 KM 14</td>\n",
       "      <td>NaN</td>\n",
       "      <td>NaN</td>\n",
       "      <td>00201294903</td>\n",
       "      <td>0</td>\n",
       "    </tr>\n",
       "  </tbody>\n",
       "</table>\n",
       "</div>"
      ]
     },
     "execution_count": 1,
     "metadata": {},
     "output_type": "execute_result"
    }
   ],
   "execution_count": 1
  },
  {
   "cell_type": "code",
   "metadata": {
    "ExecuteTime": {
     "end_time": "2025-09-20T01:39:44.537404Z",
     "start_time": "2025-09-20T01:39:44.433583Z"
    }
   },
   "source": [
    "classifica.columns = classifica.iloc[1]\n",
    "classifica.drop([0, 1], inplace=True)\n",
    "classifica.info()\n"
   ],
   "outputs": [
    {
     "name": "stdout",
     "output_type": "stream",
     "text": [
      "<class 'pandas.core.frame.DataFrame'>\n",
      "RangeIndex: 19189 entries, 2 to 19190\n",
      "Data columns (total 19 columns):\n",
      " #   Column           Non-Null Count  Dtype \n",
      "---  ------           --------------  ----- \n",
      " 0   Número           19189 non-null  object\n",
      " 1   Peso             19189 non-null  object\n",
      " 2   Produtor         19189 non-null  object\n",
      " 3   Tipo             19050 non-null  object\n",
      " 4   Color            19050 non-null  object\n",
      " 5   Prensa           19189 non-null  object\n",
      " 6   Data Benef       19189 non-null  object\n",
      " 7   Talhão           19189 non-null  object\n",
      " 8    Fardão          19189 non-null  object\n",
      " 9   Bloco            18100 non-null  object\n",
      " 10  N.Fisc           0 non-null      object\n",
      " 11  Data Saida       0 non-null      object\n",
      " 12  Contrato         0 non-null      object\n",
      " 13  Variedade        19189 non-null  object\n",
      " 14  Endereço         19189 non-null  object\n",
      " 15  Cliente Destino  3740 non-null   object\n",
      " 16  Cliente          3740 non-null   object\n",
      " 17  Numero Fardo     19189 non-null  object\n",
      " 18  NF Fardoes       19189 non-null  object\n",
      "dtypes: object(19)\n",
      "memory usage: 2.8+ MB\n"
     ]
    }
   ],
   "execution_count": 2
  },
  {
   "metadata": {
    "ExecuteTime": {
     "end_time": "2025-09-20T01:46:41.378445Z",
     "start_time": "2025-09-20T01:46:41.363937Z"
    }
   },
   "cell_type": "code",
   "outputs": [
    {
     "data": {
      "text/plain": [
       "Index(['Número', 'Peso', 'Produtor', 'Tipo', 'Color', 'Prensa', 'Data Benef',\n",
       "       'Talhão', ' Fardão', 'Bloco', 'N.Fisc', 'Data Saida', 'Contrato',\n",
       "       'Variedade', 'Endereço', 'Cliente Destino', 'Cliente', 'Numero Fardo',\n",
       "       'NF Fardoes'],\n",
       "      dtype='object', name=1)"
      ]
     },
     "execution_count": 5,
     "metadata": {},
     "output_type": "execute_result"
    }
   ],
   "execution_count": 5,
   "source": "classifica.columns"
  },
  {
   "metadata": {
    "ExecuteTime": {
     "end_time": "2025-09-20T02:06:57.484754Z",
     "start_time": "2025-09-20T02:06:57.465701Z"
    }
   },
   "cell_type": "code",
   "outputs": [
    {
     "name": "stdout",
     "output_type": "stream",
     "text": [
      "1\n",
      "Número        object\n",
      "Bloco         object\n",
      "Talhão        object\n",
      "Data Benef    object\n",
      "Tipo          object\n",
      "Variedade     object\n",
      "dtype: object\n"
     ]
    }
   ],
   "execution_count": 16,
   "source": [
    "df_clone = pd.DataFrame(classifica.loc[:, ['Número', 'Bloco', 'Talhão', 'Data Benef', 'Tipo',  'Variedade']])\n",
    "df_clone['Data Benef'] = pd.to_datetime(df_clone['Data Benef'], format='%d/%m/%Y', errors=\"coerce\")\n",
    "df_clone.head()"
   ]
  },
  {
   "cell_type": "code",
   "metadata": {},
   "source": [
    "\n",
    "   \n"
   ],
   "outputs": [],
   "execution_count": null
  }
 ],
 "metadata": {
  "kernelspec": {
   "display_name": "venv",
   "language": "python",
   "name": "python3"
  },
  "language_info": {
   "codemirror_mode": {
    "name": "ipython",
    "version": 3
   },
   "file_extension": ".py",
   "mimetype": "text/x-python",
   "name": "python",
   "nbconvert_exporter": "python",
   "pygments_lexer": "ipython3",
   "version": "3.12.3"
  }
 },
 "nbformat": 4,
 "nbformat_minor": 2
}
