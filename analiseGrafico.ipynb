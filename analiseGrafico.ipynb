{
 "cells": [
  {
   "cell_type": "code",
   "execution_count": null,
   "metadata": {},
   "outputs": [],
   "source": [
    "import pandas as pd\n",
    "%pip install matplotlib\n",
    "classifica = pd.read_excel(r'..\\Hvi_retorno\\Retorno - 24-25\\09 - Setembro\\RetornoHVI_12Set.xlsx')\n",
    "#classifica = pd.read_excel(r'.\\Hvi_retorno\\Retorno - 11 - Novembro\\RetornoHVI_21Nov.xlsx')\n",
    "classifica.head()"
   ]
  },
  {
   "cell_type": "code",
   "execution_count": null,
   "metadata": {},
   "outputs": [],
   "source": [
    "classifica.columns = classifica.iloc[1]\n",
    "classifica.head()\n"
   ]
  },
  {
   "cell_type": "code",
   "execution_count": null,
   "metadata": {},
   "outputs": [],
   "source": [
    "classifica.drop([0, 1], inplace=True)\n",
    "classifica.info()"
   ]
  },
  {
   "cell_type": "code",
   "execution_count": null,
   "metadata": {},
   "outputs": [],
   "source": [
    "df_clone = pd.DataFrame(classifica.loc[:, ['Variedade', 'Mic', 'Res', 'UHM', 'Tp.Visual', 'UN']])\n",
    "df_clone.head()"
   ]
  },
  {
   "cell_type": "code",
   "execution_count": null,
   "metadata": {},
   "outputs": [],
   "source": [
    "#df_clone.groupby('Bloco')['UN'].value_counts()\n",
    "df_clone['Variedade'].value_counts()"
   ]
  },
  {
   "cell_type": "code",
   "execution_count": null,
   "metadata": {},
   "outputs": [],
   "source": [
    "df_clone['Mic'] = df_clone['Mic'].str.replace(',', '.').astype(float)"
   ]
  },
  {
   "cell_type": "code",
   "execution_count": null,
   "metadata": {},
   "outputs": [],
   "source": [
    "df_clone['Mic_baixa_resistencia'] = ~ df_clone['Mic'].between(3.5, 6, inclusive='both')\n",
    "df_clone.head()"
   ]
  },
  {
   "cell_type": "code",
   "execution_count": null,
   "metadata": {},
   "outputs": [],
   "source": [
    "df_clone['Mic_baixa_resistencia'].value_counts()"
   ]
  },
  {
   "cell_type": "code",
   "execution_count": null,
   "metadata": {},
   "outputs": [],
   "source": [
    "df_clone['Tp.Visual'].value_counts()"
   ]
  },
  {
   "cell_type": "code",
   "execution_count": null,
   "metadata": {},
   "outputs": [],
   "source": [
    "import pandas as pd\n",
    "import matplotlib.pyplot as plt\n",
    "\n",
    "# Supondo que df_clone já está definido e contém seus dados\n",
    "# Fazer a contagem dos valores de Tp.Visual\n",
    "contagem_tp_visual = df_clone['Tp.Visual'].value_counts()\n",
    "\n",
    "# Criar gráfico de barras vertical com maior espaçamento entre as barras\n",
    "fig, ax = plt.subplots()\n",
    "contagem_tp_visual.plot(kind='bar', ax=ax, width=0.4)\n",
    "\n",
    "# Adicionar títulos e rótulos\n",
    "ax.set_title('Distribuição de Tp.Visual')\n",
    "ax.set_xlabel('Tp.Visual')\n",
    "ax.set_ylabel('Quantidade')\n",
    "\n",
    "# Rotacionar os rótulos do eixo X para 90 graus\n",
    "ax.set_xticklabels(contagem_tp_visual.index, rotation=0)\n",
    "\n",
    "# Ajustar espaçamento entre as barras\n",
    "ax.margins(y=0.1, x=0.4)  # Ajusta o espaçamento vertical entre as barras\n",
    "\n",
    "# Adicionar os valores acima das barras\n",
    "for container in ax.containers:\n",
    "    ax.bar_label(container)\n",
    "\n",
    "plt.tight_layout()  # Ajustar layout para melhor visualização dos rótulos\n",
    "plt.show()\n"
   ]
  },
  {
   "cell_type": "code",
   "execution_count": null,
   "metadata": {},
   "outputs": [],
   "source": [
    "df_clone['Res'] = df_clone['Res'].str.replace(',', '.').astype(float)"
   ]
  },
  {
   "cell_type": "code",
   "execution_count": null,
   "metadata": {},
   "outputs": [],
   "source": [
    "df_clone['baixa_resistencia'] = ~ df_clone['Res'].between(28, 35, inclusive='both')\n",
    "df_clone.head()"
   ]
  },
  {
   "cell_type": "code",
   "execution_count": null,
   "metadata": {},
   "outputs": [],
   "source": [
    "df_clone['baixa_resistencia'].value_counts()"
   ]
  },
  {
   "cell_type": "code",
   "execution_count": null,
   "metadata": {},
   "outputs": [],
   "source": [
    "df_baixa_Resistencia = pd.DataFrame(df_clone[df_clone['baixa_resistencia'] == True].value_counts('Tp.Visual'))\n"
   ]
  },
  {
   "cell_type": "code",
   "execution_count": null,
   "metadata": {},
   "outputs": [],
   "source": [
    "df_baixa_Resistencia.iterrows()"
   ]
  },
  {
   "cell_type": "code",
   "execution_count": null,
   "metadata": {},
   "outputs": [],
   "source": [
    "#import pandas as pd\n",
    "import matplotlib.pyplot as plt\n",
    "\n",
    "# Seu código para iterar e coletar os dados\n",
    "resultado = []\n",
    "for tipoVisual, nome in df_baixa_Resistencia.iterrows():\n",
    "    contagem = df_clone[(df_clone['baixa_resistencia'] == False) & (df_clone['Tp.Visual'] == tipoVisual)].value_counts(['UN']).sum()\n",
    "    resultado.append({'TipoVisual': tipoVisual, 'Contagem': contagem})\n",
    "\n",
    "# Criar um DataFrame com os resultados\n",
    "df_resultado = pd.DataFrame(resultado)\n",
    "\n",
    "# Plotar o gráfico de pizza\n",
    "fig, ax = plt.subplots()\n",
    "ax.pie(df_resultado['Contagem'], labels=df_resultado['TipoVisual'], autopct='%1.1f%%')\n",
    "ax.axis('equal')  # Assegura que o gráfico de pizza seja circular\n",
    "\n",
    "plt.title('Distribuição de Tp.Visual')\n",
    "plt.show()\n"
   ]
  },
  {
   "cell_type": "code",
   "execution_count": null,
   "metadata": {},
   "outputs": [],
   "source": [
    "\n",
    "for  tipoVisual, nome  in df_baixa_Resistencia.iterrows():\n",
    "    tipoVisual = df_clone[(df_clone['baixa_resistencia'] == True) & (df_clone['Tp.Visual'] == tipoVisual)].value_counts(['UN'])  \n",
    "    print(nome, tipoVisual)\n",
    "    print('\\n')\n",
    "    "
   ]
  },
  {
   "cell_type": "code",
   "execution_count": null,
   "metadata": {},
   "outputs": [],
   "source": [
    "df_resistencia = pd.DataFrame(df_clone[df_clone['baixa_resistencia'] == False].value_counts('Tp.Visual'))"
   ]
  },
  {
   "cell_type": "code",
   "execution_count": null,
   "metadata": {},
   "outputs": [],
   "source": [
    "df_resistencia.iterrows()"
   ]
  },
  {
   "cell_type": "code",
   "execution_count": null,
   "metadata": {},
   "outputs": [],
   "source": [
    "for tipoVisual, nome  in df_resistencia.iterrows():\n",
    "    tipoVisual = df_clone[(df_clone['baixa_resistencia'] == False) & (df_clone['Tp.Visual'] == tipoVisual)].value_counts(['UN'])\n",
    "    print(nome, tipoVisual)\n",
    "    print('\\n')\n",
    "   \n"
   ]
  }
 ],
 "metadata": {
  "kernelspec": {
   "display_name": ".venv",
   "language": "python",
   "name": "python3"
  },
  "language_info": {
   "codemirror_mode": {
    "name": "ipython",
    "version": 3
   },
   "file_extension": ".py",
   "mimetype": "text/x-python",
   "name": "python",
   "nbconvert_exporter": "python",
   "pygments_lexer": "ipython3",
   "version": "3.12.3"
  }
 },
 "nbformat": 4,
 "nbformat_minor": 2
}
