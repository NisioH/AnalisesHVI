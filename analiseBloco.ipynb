{
 "cells": [
  {
   "cell_type": "code",
   "execution_count": null,
   "metadata": {},
   "outputs": [],
   "source": [
    "import pandas as pd\n",
    "\n",
    "classifica = pd.read_excel(r'.\\Hvi_retorno\\Retorno - 11 - Novembro\\RetornoLeandro.xlsx')\n",
    "classifica.head()"
   ]
  },
  {
   "cell_type": "code",
   "execution_count": null,
   "metadata": {},
   "outputs": [],
   "source": [
    "classifica.columns = classifica.iloc[1]\n",
    "classifica.head()"
   ]
  },
  {
   "cell_type": "code",
   "execution_count": null,
   "metadata": {},
   "outputs": [],
   "source": [
    "classifica.drop([0, 1], inplace=True)\n",
    "classifica.info()"
   ]
  },
  {
   "cell_type": "code",
   "execution_count": null,
   "metadata": {},
   "outputs": [],
   "source": [
    "classifica = classifica.sort_values(by='Fardo', ascending=True)\n",
    "classifica.head()"
   ]
  },
  {
   "cell_type": "code",
   "execution_count": null,
   "metadata": {},
   "outputs": [],
   "source": [
    "df_clone = pd.DataFrame(classifica.loc[:, ['Fardo','Bloco']])\n",
    "\n",
    "df_clone['Fardo'] = df_clone['Fardo'].astype(str).str.replace('.', '').astype(int)\n",
    "df_clone.head()"
   ]
  },
  {
   "cell_type": "code",
   "execution_count": null,
   "metadata": {},
   "outputs": [],
   "source": [
    "\n",
    " \n",
    "df_sequencia = df_clone[(df_clone['Fardo'] >= 291301) & \n",
    "                        (df_clone['Fardo'] <= 291400)]\n",
    "\n",
    "df_sequencia['Bloco'].value_counts()"
   ]
  },
  {
   "cell_type": "code",
   "execution_count": null,
   "metadata": {},
   "outputs": [],
   "source": [
    "tamanho_bloco = 100 \n",
    "\n",
    "with pd.ExcelWriter('analise_intervalos.xlsx') as writer: \n",
    " \n",
    "    for i in range(0, len(df_clone), tamanho_bloco): \n",
    "        df_subset = df_clone.iloc[i:i+tamanho_bloco] \n",
    "        contagem_tp_visual = df_subset['Bloco'].value_counts() \n",
    "         \n",
    "        df_contagem = pd.DataFrame(contagem_tp_visual).reset_index() \n",
    "        df_contagem.columns = ['Blocos', 'Contagem'] \n",
    "        \n",
    "        sheet_name = f'Intervalo_{i+1}_a_{i+tamanho_bloco}' \n",
    "        \n",
    "        df_contagem.to_excel(writer, sheet_name=sheet_name, index=False) \n",
    "print(\"Análise dos intervalos salva no arquivo 'analise_intervalos.xlsx'\")"
   ]
  }
 ],
 "metadata": {
  "kernelspec": {
   "display_name": "venv",
   "language": "python",
   "name": "python3"
  },
  "language_info": {
   "codemirror_mode": {
    "name": "ipython",
    "version": 3
   },
   "file_extension": ".py",
   "mimetype": "text/x-python",
   "name": "python",
   "nbconvert_exporter": "python",
   "pygments_lexer": "ipython3",
   "version": "3.12.3"
  }
 },
 "nbformat": 4,
 "nbformat_minor": 2
}
