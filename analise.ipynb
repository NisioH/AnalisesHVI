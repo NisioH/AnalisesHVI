{
 "cells": [
  {
   "cell_type": "code",
   "execution_count": null,
   "metadata": {},
   "outputs": [],
   "source": [
    "import pandas as pd\n",
    "from funcoes import Funcoes\n",
    "\n",
    "classifica = pd.read_excel(r'..\\Hvi_retorno\\Retorno - 08 - Agosto\\RetornoHVI_17Ago.xlsx')\n",
    "classifica.head()"
   ]
  },
  {
   "cell_type": "code",
   "execution_count": null,
   "metadata": {},
   "outputs": [],
   "source": [
    "classifica.columns = classifica.iloc[1]\n",
    "classifica.drop([0, 1], inplace=True)\n",
    "classifica.info()\n"
   ]
  },
  {
   "cell_type": "code",
   "execution_count": null,
   "metadata": {},
   "outputs": [],
   "source": [
    "classifica.head()"
   ]
  },
  {
   "cell_type": "code",
   "execution_count": null,
   "metadata": {},
   "outputs": [],
   "source": [
    "df_clone = pd.DataFrame(classifica.loc[:, ['Variedade', 'Mic', 'Res', 'UHM', 'Tp.Visual', 'UN']])\n",
    "\n",
    "df_clone['Mic'] = df_clone['Mic'].str.replace(',', '.').astype(float)\n",
    "df_clone['Res'] = df_clone['Res'].str.replace(',', '.').astype(float)\n",
    "\n",
    "# Cria coluna com as amostras que estão fora do intervalo de Micronaire 3,5 a 4,9\n",
    "\n",
    "df_clone['Mic_fora_padrao'] = ~ df_clone['Mic'].between(3.5, 4.99, inclusive='both')\n",
    "df_clone['baixa_resistencia'] = ~ df_clone['Res'].between(28, 35, inclusive='both')\n",
    "df_clone.head()\n",
    "\n"
   ]
  },
  {
   "cell_type": "markdown",
   "metadata": {},
   "source": [
    "#### Verificar se há Amostras fora do Micronaire Padrão."
   ]
  },
  {
   "cell_type": "code",
   "execution_count": null,
   "metadata": {},
   "outputs": [],
   "source": [
    "df_clone['Mic_fora_padrao'].value_counts()"
   ]
  },
  {
   "cell_type": "markdown",
   "metadata": {},
   "source": [
    "#### Filtrar variedades de algodão que estão fora do padrão de Micronaire."
   ]
  },
  {
   "cell_type": "code",
   "execution_count": null,
   "metadata": {},
   "outputs": [],
   "source": [
    "Funcoes.mic_fora_padrao_variedade(df_clone)"
   ]
  },
  {
   "cell_type": "markdown",
   "metadata": {},
   "source": [
    "#### Verificar se há amostras com Micronaire fora do padrão e resistência < 28."
   ]
  },
  {
   "cell_type": "code",
   "execution_count": null,
   "metadata": {},
   "outputs": [],
   "source": [
    "Mic_fora_padrao_baixa_resistencia = (df_clone['Mic_fora_padrao'] == True) & (df_clone['baixa_resistencia'] == True)\n",
    "Mic_fora_padrao_baixa_resistencia.value_counts() "
   ]
  },
  {
   "cell_type": "markdown",
   "metadata": {},
   "source": [
    "#### Filtrar amostras com Micronaire fora do padrão e resistência < 28."
   ]
  },
  {
   "cell_type": "code",
   "execution_count": null,
   "metadata": {},
   "outputs": [],
   "source": [
    "Funcoes.mic_fora_padrao_baixa_resistencia(df_clone)"
   ]
  },
  {
   "cell_type": "markdown",
   "metadata": {},
   "source": [
    "#### Filtra amostras com Micronaire fora do padrão e resistência > 28.\n"
   ]
  },
  {
   "cell_type": "code",
   "execution_count": null,
   "metadata": {},
   "outputs": [],
   "source": [
    "Funcoes.mic_fora_padrao_boa_resistencia(df_clone)"
   ]
  },
  {
   "cell_type": "markdown",
   "metadata": {},
   "source": [
    "#### Filtrar variedades de algodão que estão dentro do padrão de Micronaire.\n"
   ]
  },
  {
   "cell_type": "code",
   "execution_count": null,
   "metadata": {},
   "outputs": [],
   "source": [
    "Funcoes.mic_padrao_variedade(df_clone)"
   ]
  },
  {
   "cell_type": "markdown",
   "metadata": {},
   "source": [
    "#### Verificar se há amostras com Micronaire no padrão e resistência < 28.\n"
   ]
  },
  {
   "cell_type": "code",
   "execution_count": null,
   "metadata": {},
   "outputs": [],
   "source": [
    "Mic_padrao_baixa_resistencia = (df_clone['Mic_fora_padrao'] == False) & (df_clone['baixa_resistencia'] == True)\n",
    "Mic_padrao_baixa_resistencia.value_counts()"
   ]
  },
  {
   "cell_type": "markdown",
   "metadata": {},
   "source": [
    "#### Filtrar amostras dentro Micronaire Padrão e resistência < 28.\n"
   ]
  },
  {
   "cell_type": "code",
   "execution_count": null,
   "metadata": {},
   "outputs": [],
   "source": [
    "Funcoes.mic_padrao_baixa_resistencia(df_clone)"
   ]
  },
  {
   "cell_type": "markdown",
   "metadata": {},
   "source": [
    "#### Filtrar amostras dentro Micronaire Padrão e resistência > 28.\n"
   ]
  },
  {
   "cell_type": "code",
   "execution_count": null,
   "metadata": {},
   "outputs": [],
   "source": [
    "Funcoes.mic_padrao_boa_resistencia(df_clone)"
   ]
  }
 ],
 "metadata": {
  "kernelspec": {
   "display_name": "Python 3",
   "language": "python",
   "name": "python3"
  },
  "language_info": {
   "codemirror_mode": {
    "name": "ipython",
    "version": 3
   },
   "file_extension": ".py",
   "mimetype": "text/x-python",
   "name": "python",
   "nbconvert_exporter": "python",
   "pygments_lexer": "ipython3",
   "version": "3.12.3"
  }
 },
 "nbformat": 4,
 "nbformat_minor": 2
}
