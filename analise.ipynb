{
 "cells": [
  {
   "cell_type": "code",
   "execution_count": null,
   "metadata": {},
   "outputs": [],
   "source": [
    "import pandas as pd\n",
    "from funcoes import Funcoes\n",
    "\n",
    "classifica = pd.read_excel(r'Hvi_retorno\\Retorno - 11 - Novembro\\RetornoTeste.xlsx')\n",
    "classifica.head()\n"
   ]
  },
  {
   "cell_type": "code",
   "execution_count": null,
   "metadata": {},
   "outputs": [],
   "source": [
    "classifica.columns = classifica.iloc[1]\n",
    "classifica.drop([0, 1], inplace=True)\n",
    "classifica.info()\n"
   ]
  },
  {
   "cell_type": "code",
   "execution_count": null,
   "metadata": {},
   "outputs": [],
   "source": [
    "df_clone = pd.DataFrame(classifica.loc[:, ['Variedade', 'Mic', 'Res', 'UHM', 'Tp.Visual', 'UN']])\n",
    "\n",
    "df_clone['Mic'] = df_clone['Mic'].str.replace(',', '.').astype(float)\n",
    "df_clone['Res'] = df_clone['Res'].str.replace(',', '.').astype(float)\n",
    "\n",
    "# Cria coluna com as amostras que estão fora do intervalo de Micronaire 3,5 a 4,9\n",
    "\n",
    "df_clone['Mic_fora_padrao'] = ~ df_clone['Mic'].between(3.5, 4.9, inclusive='both')\n",
    "df_clone['baixa_resistencia'] = ~ df_clone['Res'].between(28, 35, inclusive='both')\n",
    "df_clone.head()\n",
    "\n"
   ]
  },
  {
   "cell_type": "code",
   "execution_count": null,
   "metadata": {},
   "outputs": [],
   "source": [
    "df_clone['Variedade'].value_counts()\n"
   ]
  },
  {
   "cell_type": "code",
   "execution_count": null,
   "metadata": {},
   "outputs": [],
   "source": [
    "df_clone['Mic_fora_padrao'].value_counts()\n"
   ]
  },
  {
   "cell_type": "code",
   "execution_count": null,
   "metadata": {},
   "outputs": [],
   "source": [
    "# Verifica se há alguma amostra fora do padrão de Micronaire e com baixa resistência.\n",
    "\n",
    "Funcoes.mic_fora_padrao_baixa_resistencia(df_clone)\n"
   ]
  },
  {
   "cell_type": "code",
   "execution_count": null,
   "metadata": {},
   "outputs": [],
   "source": [
    "# Verifica quais são as amostras que estão fora do intervalo de **Micronaire `3,5 a 4,9`** e que apresentam **Resistência acima de 28**.\n",
    "\n",
    "Funcoes.mic_fora_padrao_boa_resistencia(df_clone)"
   ]
  },
  {
   "cell_type": "code",
   "execution_count": null,
   "metadata": {},
   "outputs": [],
   "source": [
    "# Verifica se há amostras dentro do intervalo de Micronaire e com baixa resistência.\n",
    "\n",
    "Mic_padrao_baixa_resistencia = (df_clone['Mic_fora_padrao'] == False) & (df_clone['baixa_resistencia'] == True)\n",
    "Mic_padrao_baixa_resistencia.value_counts()\n",
    "\n"
   ]
  },
  {
   "cell_type": "code",
   "execution_count": null,
   "metadata": {},
   "outputs": [],
   "source": [
    "# Verifica quais são as amostras que estão dentro do intervalo de **Micronaire `3,5 a 4,9`** e que apresentam **Resistência abaixo de `28`**.\n",
    "\n",
    "Funcoes.mic_padrao_baixa_resistencia(df_clone)"
   ]
  },
  {
   "cell_type": "code",
   "execution_count": null,
   "metadata": {},
   "outputs": [],
   "source": [
    "# Verifica quais são as amostras que estão dentro do intervalo de **Micronaire `3,5 a 4,9`** e que apresentam **Resistência acima de `28`**.\n",
    "\n",
    "Funcoes.mic_padrao_boa_resistencia(df_clone)"
   ]
  }
 ],
 "metadata": {
  "kernelspec": {
   "display_name": ".venv",
   "language": "python",
   "name": "python3"
  },
  "language_info": {
   "codemirror_mode": {
    "name": "ipython",
    "version": 3
   },
   "file_extension": ".py",
   "mimetype": "text/x-python",
   "name": "python",
   "nbconvert_exporter": "python",
   "pygments_lexer": "ipython3",
   "version": "3.12.3"
  }
 },
 "nbformat": 4,
 "nbformat_minor": 2
}
