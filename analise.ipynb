{
 "cells": [
  {
   "cell_type": "code",
   "execution_count": null,
   "metadata": {},
   "outputs": [],
   "source": [
    "import pandas as pd\n",
    "\n",
    "classifica = pd.read_excel(r'Hvi_retorno\\Retorno - 11 - Novembro\\RetornoHVI_01Nov.xlsx')\n",
    "classifica.head()\n"
   ]
  },
  {
   "cell_type": "code",
   "execution_count": null,
   "metadata": {},
   "outputs": [],
   "source": [
    "classifica.columns = classifica.iloc[1]\n",
    "classifica.drop([0, 1], inplace=True)\n",
    "classifica.info()\n"
   ]
  },
  {
   "cell_type": "code",
   "execution_count": null,
   "metadata": {},
   "outputs": [],
   "source": [
    "df_clone = pd.DataFrame(classifica.loc[:, ['Variedade', 'Mic', 'Res', 'UHM', 'Tp.Visual', 'UN']])\n",
    "df_clone.head()\n"
   ]
  },
  {
   "cell_type": "code",
   "execution_count": null,
   "metadata": {},
   "outputs": [],
   "source": [
    "df_clone['Variedade'].value_counts()\n"
   ]
  },
  {
   "cell_type": "code",
   "execution_count": null,
   "metadata": {},
   "outputs": [],
   "source": [
    "df_clone['Mic'] = df_clone['Mic'].str.replace(',', '.').astype(float)\n",
    "df_clone['Res'] = df_clone['Res'].str.replace(',', '.').astype(float)"
   ]
  },
  {
   "cell_type": "code",
   "execution_count": null,
   "metadata": {},
   "outputs": [],
   "source": [
    "# Cria coluna com as amostras que estão fora do intervalo de Micronaire 3,5 a 4,9\n",
    "\n",
    "df_clone['Mic_fora_padrao'] = ~ df_clone['Mic'].between(3.5, 4.9, inclusive='both')"
   ]
  },
  {
   "cell_type": "code",
   "execution_count": null,
   "metadata": {},
   "outputs": [],
   "source": [
    "# Cria coluna com as amostras que estão com baixa resistência\n",
    "\n",
    "df_clone['baixa_resistencia'] = ~ df_clone['Res'].between(28, 35, inclusive='both')\n",
    "df_clone.head()"
   ]
  },
  {
   "cell_type": "code",
   "execution_count": null,
   "metadata": {},
   "outputs": [],
   "source": [
    "df_clone['Mic_fora_padrao'].value_counts()\n"
   ]
  },
  {
   "cell_type": "code",
   "execution_count": null,
   "metadata": {},
   "outputs": [],
   "source": [
    "df_clone['baixa_resistencia'].value_counts()\n"
   ]
  },
  {
   "cell_type": "code",
   "execution_count": null,
   "metadata": {},
   "outputs": [],
   "source": [
    "# Verifica se tem alguma amostra fora do padrão de Micronaire e com baixa resistência.\n",
    "\n",
    "Mic_fora_padrao_baixa_resistencia = (df_clone['Mic_fora_padrao'] == True) & (df_clone['baixa_resistencia'] == True)\n",
    "Mic_fora_padrao_baixa_resistencia.value_counts()"
   ]
  },
  {
   "cell_type": "code",
   "execution_count": null,
   "metadata": {},
   "outputs": [],
   "source": [
    "# Filtra as amostras que estão fora do padrão de Micronaire e que apresentam resistência abaixo de 28.\n",
    "\n",
    "Mic_fora_padrao_baixa_resistencia = (df_clone['Mic_fora_padrao'] == True) & (df_clone['baixa_resistencia'] == True)\n",
    "Mic_fora_padrao_baixa_resistencia = df_clone.loc[Mic_fora_padrao_baixa_resistencia, ['Tp.Visual', 'UN']]\n",
    "\n",
    "totais_por_visual = Mic_fora_padrao_baixa_resistencia['Tp.Visual'].value_counts()\n",
    "\n",
    "detalhamento = Mic_fora_padrao_baixa_resistencia.groupby(['Tp.Visual', 'UN']).size()\n",
    "\n",
    "\n",
    "for tp_visual in totais_por_visual.index:\n",
    "    print(f\"{tp_visual}\\t{totais_por_visual[tp_visual]}\")\n",
    "    un_grupo = detalhamento.loc[tp_visual]\n",
    "    if isinstance(un_grupo, pd.Series):  # múltiplos UNs\n",
    "        for un, contagem in un_grupo.items():\n",
    "            print(f\"{un}\\t{contagem}\")\n",
    "    else:  # apenas um UN\n",
    "        print(f\"{un_grupo.name}\\t{un_grupo}\")\n",
    "    print()"
   ]
  },
  {
   "cell_type": "code",
   "execution_count": null,
   "metadata": {},
   "outputs": [],
   "source": [
    "\n",
    "# Verifica as amostras que estão fora do padrão de Micronaire e que apresentam resistência acima de 28, e filtra quais são as amostras.\n",
    "\n",
    "Mic_fora_padrao_baixa_resistencia = (df_clone['Mic_fora_padrao'] == True) & (df_clone['baixa_resistencia'] == False)\n",
    "Mic_fora_padrao_baixa_resistencia = df_clone.loc[Mic_fora_padrao_baixa_resistencia, ['Tp.Visual', 'UN']]\n",
    "\n",
    "\n",
    "totais_por_visual = Mic_fora_padrao_baixa_resistencia['Tp.Visual'].value_counts()\n",
    "\n",
    "detalhamento = Mic_fora_padrao_baixa_resistencia.groupby(['Tp.Visual', 'UN']).size()\n",
    "\n",
    "for tp_visual in totais_por_visual.index:\n",
    "    print(f\"{tp_visual}\\t{totais_por_visual[tp_visual]}\")\n",
    "    un_grupo = detalhamento.loc[tp_visual]\n",
    "    if isinstance(un_grupo, pd.Series):  # múltiplos UNs\n",
    "        for un, contagem in un_grupo.items():\n",
    "            print(f\"{un}\\t{contagem}\")\n",
    "    else:  # apenas um UN\n",
    "        print(f\"{un_grupo.name}\\t{un_grupo}\")\n",
    "    print()"
   ]
  },
  {
   "cell_type": "code",
   "execution_count": null,
   "metadata": {},
   "outputs": [],
   "source": [
    "\n",
    "# Verifica se há amostras que estão dentro do intervalo de **Micronaire `3,5 a 4,9`** e que apresentam **Resistência abaixo de `28`**.\n",
    "\n",
    "Mic_padrao_baixa_resistencia = (df_clone['Mic_fora_padrao'] == False) & (df_clone['baixa_resistencia'] == True)\n",
    "Mic_padrao_baixa_resistencia.value_counts()"
   ]
  },
  {
   "cell_type": "code",
   "execution_count": null,
   "metadata": {},
   "outputs": [],
   "source": [
    "\n",
    "# Verifica quais são as amostras que estão dentro do intervalo de **Micronaire `3,5 a 4,9`** e que apresentam **Resistência abaixo de `28`**.\n",
    "\n",
    "Mic_padrao_baixa_resistencia = (df_clone['Mic_fora_padrao'] == False) & (df_clone['baixa_resistencia'] == True)\n",
    "Mic_padrao_baixa_resistencia = df_clone.loc[Mic_padrao_baixa_resistencia, ['Tp.Visual', 'UN']]\n",
    "\n",
    "\n",
    "totais_por_visual = Mic_padrao_baixa_resistencia['Tp.Visual'].value_counts()\n",
    "\n",
    "detalhamento = Mic_padrao_baixa_resistencia.groupby(['Tp.Visual', 'UN']).size()\n",
    "\n",
    "for tp_visual in totais_por_visual.index:\n",
    "    print(f\"{tp_visual}\\t{totais_por_visual[tp_visual]}\")\n",
    "    un_grupo = detalhamento.loc[tp_visual]\n",
    "    if isinstance(un_grupo, pd.Series):  # múltiplos UNs\n",
    "        for un, contagem in un_grupo.items():\n",
    "            print(f\"{un}\\t{contagem}\")\n",
    "    else:  # apenas um UN\n",
    "        print(f\"{un_grupo.name}\\t{un_grupo}\")\n",
    "    print()"
   ]
  },
  {
   "cell_type": "code",
   "execution_count": null,
   "metadata": {},
   "outputs": [],
   "source": [
    "\n",
    "# Verifica quais são as amostras que estão dentro do intervalo de **Micronaire `3,5 a 4,9`** e que apresentam **Resistência acima de `28`**.\n",
    "\n",
    "Mic_padrao_resistencia = (df_clone['Mic_fora_padrao'] == False) & (df_clone['baixa_resistencia'] == False)\n",
    "Mic_padrao_resistencia = df_clone.loc[Mic_padrao_resistencia, ['Tp.Visual', 'UN']]\n",
    "\n",
    "\n",
    "totais_por_visual = Mic_padrao_resistencia['Tp.Visual'].value_counts()\n",
    "\n",
    "detalhamento = Mic_padrao_resistencia.groupby(['Tp.Visual', 'UN']).size()\n",
    "\n",
    "for tp_visual in totais_por_visual.index:\n",
    "    print(f\"{tp_visual}\\t{totais_por_visual[tp_visual]}\")\n",
    "    un_grupo = detalhamento.loc[tp_visual]\n",
    "    if isinstance(un_grupo, pd.Series):  # múltiplos UNs\n",
    "        for un, contagem in un_grupo.items():\n",
    "            print(f\"{un}\\t{contagem}\")\n",
    "    else:  # apenas um UN\n",
    "        print(f\"{un_grupo.name}\\t{un_grupo}\")\n",
    "    print()"
   ]
  }
 ],
 "metadata": {
  "kernelspec": {
   "display_name": ".venv",
   "language": "python",
   "name": "python3"
  },
  "language_info": {
   "codemirror_mode": {
    "name": "ipython",
    "version": 3
   },
   "file_extension": ".py",
   "mimetype": "text/x-python",
   "name": "python",
   "nbconvert_exporter": "python",
   "pygments_lexer": "ipython3",
   "version": "3.12.3"
  }
 },
 "nbformat": 4,
 "nbformat_minor": 2
}
