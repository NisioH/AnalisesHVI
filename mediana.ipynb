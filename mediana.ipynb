{
 "cells": [
  {
   "cell_type": "code",
   "execution_count": 38,
   "metadata": {},
   "outputs": [],
   "source": [
    "import pandas as pd"
   ]
  },
  {
   "cell_type": "code",
   "execution_count": 39,
   "metadata": {},
   "outputs": [],
   "source": [
    "df_realizado = pd.read_excel('Realizdo-23-24.xlsx', sheet_name='Manutenção')\n",
    "df_orcado = pd.read_excel('Planilha Orçamento 25-26.XLSX', sheet_name='Revisões')\n",
    "\n"
   ]
  },
  {
   "cell_type": "code",
   "execution_count": 40,
   "metadata": {},
   "outputs": [
    {
     "data": {
      "text/plain": [
       "0            LIMPA PLUMA 01\n",
       "1            LIMPA PLUMA 02\n",
       "2      CONDENSADOR PRINCIPA\n",
       "3           DESCAROÇADOR 01\n",
       "4           DESCAROÇADOR 02\n",
       "               ...         \n",
       "107          LIMPA PLUMA 01\n",
       "108          LIMPA PLUMA 02\n",
       "109         PRENÇA FIBRILHA\n",
       "110                  PRENÇA\n",
       "111           BRIQUETADEIRA\n",
       "Name: Doc.Num., Length: 112, dtype: object"
      ]
     },
     "execution_count": 40,
     "metadata": {},
     "output_type": "execute_result"
    }
   ],
   "source": [
    "df_realizado['Doc.Num.'].str.strip()\n",
    "df_realizado['Doc.Num.'].str.lstrip()"
   ]
  },
  {
   "cell_type": "code",
   "execution_count": 42,
   "metadata": {},
   "outputs": [
    {
     "name": "stdout",
     "output_type": "stream",
     "text": [
      "Arquivo salvo com sucesso como 'realizado_atualizado.xlsx' 🚀\n"
     ]
    }
   ],
   "source": [
    "from fuzzywuzzy import process\n",
    "import pandas as pd\n",
    "\n",
    "# Carregando os arquivos das planilhas\n",
    "df_realizado = pd.read_excel('Realizdo-23-24.xlsx', sheet_name='Manutenção')\n",
    "df_orcado = pd.read_excel('Planilha Orçamento 25-26.XLSX', sheet_name='Revisões')\n",
    "\n",
    "# Convertendo colunas para string para evitar erros\n",
    "df_orcado['Descrição'] = df_orcado['Descrição'].astype(str)\n",
    "df_realizado['Doc.Num.'] = df_realizado['Doc.Num.'].astype(str)\n",
    "\n",
    "# Excluindo a primeira linha da coluna \"Descrição\"\n",
    "df_orcado = df_orcado.iloc[1:].reset_index(drop=True)\n",
    "\n",
    "# Criando uma lista para armazenar correspondências\n",
    "correspondencias = []\n",
    "\n",
    "# Iterando sobre cada item da primeira planilha para encontrar a melhor correspondência na segunda planilha\n",
    "for item in df_orcado['Descrição']:\n",
    "    resultado = process.extractOne(item, df_realizado['Doc.Num.'].tolist())\n",
    "    \n",
    "    # Verificando se encontrou uma correspondência válida (acima de 80% de similaridade)\n",
    "    correspondencias.append({'Descrição': item, 'item_correspondente': resultado[0] if resultado and resultado[1] >= 80 else item})\n",
    "\n",
    "# Convertendo a lista de correspondências para um DataFrame\n",
    "df_correspondencias = pd.DataFrame(correspondencias)\n",
    "\n",
    "# Mesclando os resultados com o DataFrame original `df_realizado`\n",
    "df_realizado = df_realizado.merge(df_correspondencias, left_on='Doc.Num.', right_on='item_correspondente', how='left')\n",
    "\n",
    "# Salvando o resultado em um arquivo Excel\n",
    "df_realizado.to_excel('realizado_atualizado.xlsx', index=False)\n",
    "\n",
    "print(\"Arquivo salvo com sucesso como 'realizado_atualizado.xlsx' 🚀\")"
   ]
  }
 ],
 "metadata": {
  "kernelspec": {
   "display_name": "venv",
   "language": "python",
   "name": "python3"
  },
  "language_info": {
   "codemirror_mode": {
    "name": "ipython",
    "version": 3
   },
   "file_extension": ".py",
   "mimetype": "text/x-python",
   "name": "python",
   "nbconvert_exporter": "python",
   "pygments_lexer": "ipython3",
   "version": "3.12.3"
  }
 },
 "nbformat": 4,
 "nbformat_minor": 2
}
