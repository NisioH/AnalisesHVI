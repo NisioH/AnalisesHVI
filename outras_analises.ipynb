{
 "cells": [
  {
   "cell_type": "code",
   "execution_count": 1,
   "id": "016c4069",
   "metadata": {},
   "outputs": [],
   "source": [
    "import pandas as pd\n",
    "\n",
    "classifica = pd.read_excel(r'..\\Hvi_retorno\\Retorno - 24-25\\09 - Setembro\\RetornoHVI_27Set.xlsx')\n"
   ]
  },
  {
   "cell_type": "code",
   "execution_count": 2,
   "id": "b1a23658",
   "metadata": {},
   "outputs": [],
   "source": [
    "classifica.columns = classifica.iloc[1]\n",
    "classifica.drop([0, 1], inplace=True)\n"
   ]
  },
  {
   "cell_type": "code",
   "execution_count": 3,
   "id": "d7bfb818",
   "metadata": {},
   "outputs": [
    {
     "data": {
      "text/html": [
       "<div>\n",
       "<style scoped>\n",
       "    .dataframe tbody tr th:only-of-type {\n",
       "        vertical-align: middle;\n",
       "    }\n",
       "\n",
       "    .dataframe tbody tr th {\n",
       "        vertical-align: top;\n",
       "    }\n",
       "\n",
       "    .dataframe thead th {\n",
       "        text-align: right;\n",
       "    }\n",
       "</style>\n",
       "<table border=\"1\" class=\"dataframe\">\n",
       "  <thead>\n",
       "    <tr style=\"text-align: right;\">\n",
       "      <th>1</th>\n",
       "      <th>Variedade</th>\n",
       "      <th>Talhão</th>\n",
       "      <th>Mic</th>\n",
       "      <th>Res</th>\n",
       "      <th>UHM</th>\n",
       "      <th>Tp.Visual</th>\n",
       "      <th>UN</th>\n",
       "      <th>Mic_fora_padrao</th>\n",
       "      <th>baixa_resistencia</th>\n",
       "    </tr>\n",
       "  </thead>\n",
       "  <tbody>\n",
       "    <tr>\n",
       "      <th>2</th>\n",
       "      <td>FM 978 GLTP</td>\n",
       "      <td>29-30</td>\n",
       "      <td>4.51</td>\n",
       "      <td>30.1</td>\n",
       "      <td>1.17</td>\n",
       "      <td>41-3</td>\n",
       "      <td>37</td>\n",
       "      <td>False</td>\n",
       "      <td>False</td>\n",
       "    </tr>\n",
       "    <tr>\n",
       "      <th>3</th>\n",
       "      <td>FM 978 GLTP</td>\n",
       "      <td>29-30</td>\n",
       "      <td>4.47</td>\n",
       "      <td>29.6</td>\n",
       "      <td>1.14</td>\n",
       "      <td>41-3</td>\n",
       "      <td>37</td>\n",
       "      <td>False</td>\n",
       "      <td>False</td>\n",
       "    </tr>\n",
       "    <tr>\n",
       "      <th>4</th>\n",
       "      <td>FM 978 GLTP</td>\n",
       "      <td>29-30</td>\n",
       "      <td>4.40</td>\n",
       "      <td>29.0</td>\n",
       "      <td>1.12</td>\n",
       "      <td>41-3</td>\n",
       "      <td>36</td>\n",
       "      <td>False</td>\n",
       "      <td>False</td>\n",
       "    </tr>\n",
       "    <tr>\n",
       "      <th>5</th>\n",
       "      <td>FM 978 GLTP</td>\n",
       "      <td>29-30</td>\n",
       "      <td>4.39</td>\n",
       "      <td>30.4</td>\n",
       "      <td>1.18</td>\n",
       "      <td>41-3</td>\n",
       "      <td>38</td>\n",
       "      <td>False</td>\n",
       "      <td>False</td>\n",
       "    </tr>\n",
       "    <tr>\n",
       "      <th>6</th>\n",
       "      <td>FM 978 GLTP</td>\n",
       "      <td>29-30</td>\n",
       "      <td>4.47</td>\n",
       "      <td>29.9</td>\n",
       "      <td>1.14</td>\n",
       "      <td>41-3</td>\n",
       "      <td>37</td>\n",
       "      <td>False</td>\n",
       "      <td>False</td>\n",
       "    </tr>\n",
       "  </tbody>\n",
       "</table>\n",
       "</div>"
      ],
      "text/plain": [
       "1    Variedade Talhão   Mic   Res   UHM Tp.Visual  UN  Mic_fora_padrao  \\\n",
       "2  FM 978 GLTP  29-30  4.51  30.1  1.17      41-3  37            False   \n",
       "3  FM 978 GLTP  29-30  4.47  29.6  1.14      41-3  37            False   \n",
       "4  FM 978 GLTP  29-30  4.40  29.0  1.12      41-3  36            False   \n",
       "5  FM 978 GLTP  29-30  4.39  30.4  1.18      41-3  38            False   \n",
       "6  FM 978 GLTP  29-30  4.47  29.9  1.14      41-3  37            False   \n",
       "\n",
       "1  baixa_resistencia  \n",
       "2              False  \n",
       "3              False  \n",
       "4              False  \n",
       "5              False  \n",
       "6              False  "
      ]
     },
     "execution_count": 3,
     "metadata": {},
     "output_type": "execute_result"
    }
   ],
   "source": [
    "df_clone = pd.DataFrame(classifica.loc[:, ['Variedade', 'Talhão','Mic', 'Res', 'UHM', 'Tp.Visual', 'UN']])\n",
    "\n",
    "df_clone['Mic'] = df_clone['Mic'].str.replace(',', '.').astype(float)\n",
    "df_clone['Res'] = df_clone['Res'].str.replace(',', '.').astype(float)\n",
    "\n",
    "# Cria coluna com as amostras que estão fora do intervalo de Micronaire 3,5 a 4,9\n",
    "\n",
    "df_clone['Mic_fora_padrao'] = ~ df_clone['Mic'].between(3.5, 4.99, inclusive='both')\n",
    "df_clone['baixa_resistencia'] = ~ df_clone['Res'].between(28, 35, inclusive='both')\n",
    "df_clone.head()"
   ]
  },
  {
   "cell_type": "code",
   "execution_count": null,
   "id": "72610f84",
   "metadata": {},
   "outputs": [],
   "source": [
    "df_HVI = pd.DataFrame(classifica.loc[:, ['Fardo', 'Variedade', 'Tp.Visual', 'Tipo']])\n",
    "df_HVI.to_excel(r'..\\Hvi_retorno\\Retorno - 24-25\\08 - Agosto\\HVICompara.xlsx', index=False)\n",
    "print(df_HVI.head())\n",
    "print('Gravado com sucesso HVICompara.xlsx')"
   ]
  },
  {
   "cell_type": "code",
   "execution_count": 4,
   "id": "5811e313",
   "metadata": {},
   "outputs": [
    {
     "name": "stdout",
     "output_type": "stream",
     "text": [
      "143    317.042\n",
      "145    317.044\n",
      "Name: Fardo, dtype: object\n"
     ]
    }
   ],
   "source": [
    "filtro = (classifica['Tp.Visual'] == '41-3') & (classifica['UN'] == 40) & (df_clone['Mic_fora_padrao'] == False) \n",
    "resultado = classifica[filtro]['Fardo']\n",
    "print(resultado)"
   ]
  },
  {
   "cell_type": "code",
   "execution_count": null,
   "id": "f68dcc0d",
   "metadata": {},
   "outputs": [],
   "source": [
    "df_HVI['Tipo'].value_counts()"
   ]
  }
 ],
 "metadata": {
  "kernelspec": {
   "display_name": ".venv",
   "language": "python",
   "name": "python3"
  },
  "language_info": {
   "codemirror_mode": {
    "name": "ipython",
    "version": 3
   },
   "file_extension": ".py",
   "mimetype": "text/x-python",
   "name": "python",
   "nbconvert_exporter": "python",
   "pygments_lexer": "ipython3",
   "version": "3.12.3"
  }
 },
 "nbformat": 4,
 "nbformat_minor": 5
}
