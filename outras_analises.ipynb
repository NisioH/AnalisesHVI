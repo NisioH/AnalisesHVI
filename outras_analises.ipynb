{
 "cells": [
  {
   "cell_type": "code",
   "execution_count": null,
   "id": "016c4069",
   "metadata": {},
   "outputs": [],
   "source": [
    "import pandas as pd\n",
    "from funcoes import Funcoes\n",
    "\n",
    "classifica = pd.read_excel(r'..\\Hvi_retorno\\Retorno - 24-25\\08 - Agosto\\RetornoHVI_15Ago.xlsx')\n",
    "classifica.head()"
   ]
  },
  {
   "cell_type": "code",
   "execution_count": null,
   "id": "b1a23658",
   "metadata": {},
   "outputs": [],
   "source": [
    "classifica.columns = classifica.iloc[1]\n",
    "classifica.drop([0, 1], inplace=True)\n",
    "classifica.info()"
   ]
  },
  {
   "cell_type": "code",
   "execution_count": null,
   "id": "c49da03d",
   "metadata": {},
   "outputs": [],
   "source": [
    "filtro = (classifica['Tp.Visual'] == '52-5') & (classifica['UN'] == 37)\n",
    "resultado = classifica[filtro]['Fardo']\n",
    "print(resultado)"
   ]
  },
  {
   "cell_type": "code",
   "execution_count": null,
   "id": "72610f84",
   "metadata": {},
   "outputs": [],
   "source": [
    "df_HVI = pd.DataFrame(classifica.loc[:, ['Fardo', 'Tp.Visual', 'Tipo']])\n",
    "df_HVI.to_excel(r'..\\Hvi_retorno\\Retorno - 24-25\\08 - Agosto\\HVICompara.xlsx', index=False)\n",
    "print(df_HVI.head())"
   ]
  },
  {
   "cell_type": "code",
   "execution_count": null,
   "id": "f68dcc0d",
   "metadata": {},
   "outputs": [],
   "source": [
    "df_HVI['Tipo'].value_counts()"
   ]
  }
 ],
 "metadata": {
  "kernelspec": {
   "display_name": ".venv",
   "language": "python",
   "name": "python3"
  },
  "language_info": {
   "codemirror_mode": {
    "name": "ipython",
    "version": 3
   },
   "file_extension": ".py",
   "mimetype": "text/x-python",
   "name": "python",
   "nbconvert_exporter": "python",
   "pygments_lexer": "ipython3",
   "version": "3.12.3"
  }
 },
 "nbformat": 4,
 "nbformat_minor": 5
}
