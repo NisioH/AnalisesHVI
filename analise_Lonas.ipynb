{
 "cells": [
  {
   "cell_type": "code",
   "execution_count": null,
   "metadata": {},
   "outputs": [],
   "source": [
    "import pandas as pd\n",
    "import plotly.express as px\n",
    "\n",
    "df_buscaLonas = pd.read_excel('buscaLona.xlsx')"
   ]
  },
  {
   "cell_type": "code",
   "execution_count": null,
   "metadata": {},
   "outputs": [],
   "source": [
    "df_buscaLonas.columns"
   ]
  },
  {
   "cell_type": "code",
   "execution_count": null,
   "metadata": {},
   "outputs": [],
   "source": [
    "df_buscaLonas['Tipo de Ocorrência'].value_counts()"
   ]
  },
  {
   "cell_type": "code",
   "execution_count": null,
   "metadata": {},
   "outputs": [],
   "source": [
    "# Filtrar as linhas onde 'Tipo de Ocorrência' é igual a '8 - OUTROS'\n",
    "filtro_outros = df_buscaLonas['Tipo de Ocorrência'] == '8 - OUTROS'\n",
    "filtro_outros.value_counts()\n",
    "# Exibir as linhas correspondentes ao filtro\n",
    "dados_outros = df_buscaLonas.loc[filtro_outros]\n",
    "dados_outros.value_counts(['Observações'])\n",
    "#print(dados_outros)\n"
   ]
  },
  {
   "cell_type": "code",
   "execution_count": null,
   "metadata": {},
   "outputs": [],
   "source": [
    "from fpdf import FPDF\n",
    "\n",
    "# Criar um objeto da classe FPDF\n",
    "pdf = FPDF()\n",
    "pdf.set_auto_page_break(auto=True, margin=15)\n",
    "pdf.add_page()\n",
    "pdf.set_font(\"Arial\", size=12)\n",
    "\n",
    "# Adicionar título ao relatório\n",
    "pdf.set_font(\"Arial\", style=\"B\", size=16)\n",
    "pdf.cell(0, 10, \"Relatório: Observações para '8 - OUTROS'\", ln=True, align=\"C\")\n",
    "pdf.ln(10)  # Espaço extra\n",
    "\n",
    "# Filtrar as linhas onde 'Tipo de Ocorrência' é igual a '8 - OUTROS'\n",
    "filtro_outros = df_buscaLonas['Tipo de Ocorrência'] == '8 - OUTROS'\n",
    "dados_outros = df_buscaLonas.loc[filtro_outros]\n",
    "\n",
    "# Contar os valores na coluna 'Observações'\n",
    "contagem_observacoes = dados_outros['Observações'].value_counts()\n",
    "\n",
    "# Adicionar os dados no relatório\n",
    "pdf.set_font(\"Arial\", size=12)\n",
    "for observacao, frequencia in contagem_observacoes.items():\n",
    "    pdf.cell(0, 10, f\"Observação: {observacao} - Frequência: {frequencia}\", ln=True)\n",
    "\n",
    "# Salvar o relatório em PDF\n",
    "pdf_file = \"relatorio_observacoes_outros.pdf\"\n",
    "pdf.output(pdf_file)\n",
    "\n",
    "print(f\"Relatório salvo como '{pdf_file}'.\")"
   ]
  },
  {
   "cell_type": "code",
   "execution_count": null,
   "metadata": {},
   "outputs": [],
   "source": [
    "df_buscaLonas['Total Horas'] = df_buscaLonas['Total Horas'].astype(str)\n",
    "df_buscaLonas['Total Horas'] = pd.to_timedelta(df_buscaLonas['Total Horas'], errors='coerce')\n",
    "soma_total_horas_geral = df_buscaLonas['Total Horas'].sum()\n",
    "\n",
    "# Filtrar as observações que contêm 'lona'\n",
    "filtro_lona = df_buscaLonas['Observações'].str.contains('lona', case=False, na=False)\n",
    "\n",
    "# Somar os valores de 'Total Horas' com base no filtro\n",
    "soma_total_horas = df_buscaLonas.loc[filtro_lona, 'Total Horas'].sum()"
   ]
  },
  {
   "cell_type": "code",
   "execution_count": null,
   "metadata": {},
   "outputs": [],
   "source": [
    "print(f'Soma Lonas: {soma_total_horas}\\nSoma Geral: {soma_total_horas_geral}')"
   ]
  },
  {
   "cell_type": "code",
   "execution_count": null,
   "metadata": {},
   "outputs": [],
   "source": [
    "import matplotlib.pyplot as plt\n",
    "\n",
    "# Contar a frequência de cada tipo de ocorrência\n",
    "ocorrencia_frequencia = df_buscaLonas['Tipo de Ocorrência'].value_counts()\n",
    "\n",
    "# Criar o gráfico de pizza\n",
    "plt.figure(figsize=(8, 8))\n",
    "plt.pie(ocorrencia_frequencia, labels=ocorrencia_frequencia.index, autopct='%1.1f%%', startangle=200)\n",
    "plt.title('Distribuição de Tipos de Ocorrência')\n",
    "plt.show()"
   ]
  }
 ],
 "metadata": {
  "kernelspec": {
   "display_name": ".venv",
   "language": "python",
   "name": "python3"
  },
  "language_info": {
   "codemirror_mode": {
    "name": "ipython",
    "version": 3
   },
   "file_extension": ".py",
   "mimetype": "text/x-python",
   "name": "python",
   "nbconvert_exporter": "python",
   "pygments_lexer": "ipython3",
   "version": "3.12.3"
  }
 },
 "nbformat": 4,
 "nbformat_minor": 2
}
